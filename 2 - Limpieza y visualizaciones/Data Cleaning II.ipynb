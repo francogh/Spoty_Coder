{
 "cells": [
  {
   "cell_type": "markdown",
   "metadata": {},
   "source": [
    "# Data Cleaning II"
   ]
  },
  {
   "cell_type": "code",
   "execution_count": 3,
   "metadata": {},
   "outputs": [],
   "source": [
    "import numpy as np \n",
    "import pandas as pd\n",
    "import seaborn as sns\n",
    "import matplotlib.pyplot as plt\n",
    "import math "
   ]
  },
  {
   "cell_type": "code",
   "execution_count": 6,
   "metadata": {},
   "outputs": [],
   "source": [
    "train = pd.read_csv('../1 - Base de Datos/trainset.csv')\n",
    "test = pd.read_csv('../1 - Base de Datos/testset.csv')"
   ]
  },
  {
   "cell_type": "code",
   "execution_count": 7,
   "metadata": {},
   "outputs": [],
   "source": [
    "train2 = train.copy()\n",
    "test2 = test.copy()\n",
    "train2 = train2.set_index('id')\n",
    "test2 = test2.set_index('id')"
   ]
  },
  {
   "cell_type": "code",
   "execution_count": 8,
   "metadata": {},
   "outputs": [
    {
     "data": {
      "text/html": [
       "<div>\n",
       "<style scoped>\n",
       "    .dataframe tbody tr th:only-of-type {\n",
       "        vertical-align: middle;\n",
       "    }\n",
       "\n",
       "    .dataframe tbody tr th {\n",
       "        vertical-align: top;\n",
       "    }\n",
       "\n",
       "    .dataframe thead th {\n",
       "        text-align: right;\n",
       "    }\n",
       "</style>\n",
       "<table border=\"1\" class=\"dataframe\">\n",
       "  <thead>\n",
       "    <tr style=\"text-align: right;\">\n",
       "      <th></th>\n",
       "      <th>id</th>\n",
       "      <th>t_key0</th>\n",
       "      <th>t_mode0</th>\n",
       "      <th>t_dur0</th>\n",
       "      <th>t_dance0</th>\n",
       "      <th>t_energy0</th>\n",
       "      <th>t_speech0</th>\n",
       "      <th>t_acous0</th>\n",
       "      <th>t_ins0</th>\n",
       "      <th>t_live0</th>\n",
       "      <th>t_val0</th>\n",
       "      <th>t_tempo0</th>\n",
       "      <th>popularity</th>\n",
       "      <th>ClasePopularidad</th>\n",
       "    </tr>\n",
       "  </thead>\n",
       "  <tbody>\n",
       "    <tr>\n",
       "      <th>0</th>\n",
       "      <td>146790</td>\n",
       "      <td>2.217079</td>\n",
       "      <td>0.0</td>\n",
       "      <td>139.731735</td>\n",
       "      <td>0.869118</td>\n",
       "      <td>0.519249</td>\n",
       "      <td>0.029225</td>\n",
       "      <td>0.319573</td>\n",
       "      <td>0.002967</td>\n",
       "      <td>0.091678</td>\n",
       "      <td>0.188732</td>\n",
       "      <td>26.457350</td>\n",
       "      <td>34.0</td>\n",
       "      <td>2</td>\n",
       "    </tr>\n",
       "    <tr>\n",
       "      <th>1</th>\n",
       "      <td>142735</td>\n",
       "      <td>4.304625</td>\n",
       "      <td>0.0</td>\n",
       "      <td>140.968215</td>\n",
       "      <td>1.910310</td>\n",
       "      <td>0.769341</td>\n",
       "      <td>0.067253</td>\n",
       "      <td>0.023262</td>\n",
       "      <td>0.000000</td>\n",
       "      <td>0.052209</td>\n",
       "      <td>0.663667</td>\n",
       "      <td>23.141670</td>\n",
       "      <td>2.0</td>\n",
       "      <td>1</td>\n",
       "    </tr>\n",
       "    <tr>\n",
       "      <th>2</th>\n",
       "      <td>971</td>\n",
       "      <td>4.304625</td>\n",
       "      <td>1.0</td>\n",
       "      <td>109.520185</td>\n",
       "      <td>0.977668</td>\n",
       "      <td>0.253525</td>\n",
       "      <td>0.026992</td>\n",
       "      <td>0.364818</td>\n",
       "      <td>0.001985</td>\n",
       "      <td>0.074177</td>\n",
       "      <td>0.444230</td>\n",
       "      <td>29.855429</td>\n",
       "      <td>62.0</td>\n",
       "      <td>4</td>\n",
       "    </tr>\n",
       "    <tr>\n",
       "      <th>3</th>\n",
       "      <td>61341</td>\n",
       "      <td>3.828397</td>\n",
       "      <td>1.0</td>\n",
       "      <td>75.954987</td>\n",
       "      <td>1.509001</td>\n",
       "      <td>0.931646</td>\n",
       "      <td>0.106186</td>\n",
       "      <td>0.139922</td>\n",
       "      <td>0.000000</td>\n",
       "      <td>0.120665</td>\n",
       "      <td>0.491329</td>\n",
       "      <td>31.462427</td>\n",
       "      <td>19.0</td>\n",
       "      <td>1</td>\n",
       "    </tr>\n",
       "    <tr>\n",
       "      <th>4</th>\n",
       "      <td>153359</td>\n",
       "      <td>3.828397</td>\n",
       "      <td>1.0</td>\n",
       "      <td>91.244224</td>\n",
       "      <td>1.555391</td>\n",
       "      <td>0.545826</td>\n",
       "      <td>0.035371</td>\n",
       "      <td>0.251469</td>\n",
       "      <td>0.149262</td>\n",
       "      <td>0.083623</td>\n",
       "      <td>0.272233</td>\n",
       "      <td>34.090480</td>\n",
       "      <td>43.0</td>\n",
       "      <td>3</td>\n",
       "    </tr>\n",
       "  </tbody>\n",
       "</table>\n",
       "</div>"
      ],
      "text/plain": [
       "       id    t_key0  t_mode0      t_dur0  t_dance0  t_energy0  t_speech0  \\\n",
       "0  146790  2.217079      0.0  139.731735  0.869118   0.519249   0.029225   \n",
       "1  142735  4.304625      0.0  140.968215  1.910310   0.769341   0.067253   \n",
       "2     971  4.304625      1.0  109.520185  0.977668   0.253525   0.026992   \n",
       "3   61341  3.828397      1.0   75.954987  1.509001   0.931646   0.106186   \n",
       "4  153359  3.828397      1.0   91.244224  1.555391   0.545826   0.035371   \n",
       "\n",
       "   t_acous0    t_ins0   t_live0    t_val0   t_tempo0  popularity  \\\n",
       "0  0.319573  0.002967  0.091678  0.188732  26.457350        34.0   \n",
       "1  0.023262  0.000000  0.052209  0.663667  23.141670         2.0   \n",
       "2  0.364818  0.001985  0.074177  0.444230  29.855429        62.0   \n",
       "3  0.139922  0.000000  0.120665  0.491329  31.462427        19.0   \n",
       "4  0.251469  0.149262  0.083623  0.272233  34.090480        43.0   \n",
       "\n",
       "   ClasePopularidad  \n",
       "0                 2  \n",
       "1                 1  \n",
       "2                 4  \n",
       "3                 1  \n",
       "4                 3  "
      ]
     },
     "execution_count": 8,
     "metadata": {},
     "output_type": "execute_result"
    }
   ],
   "source": [
    "columns_renamed = {\n",
    "    \"t_key0\" : \"t_key\",\n",
    "    \"t_mode0\" : \"t_mode\",\n",
    "    \"t_dur0\" : \"t_dur\",\n",
    "    \"t_dance0\" : \"t_dance\",\n",
    "    \"t_energy0\" : \"t_energy\",\n",
    "    \"t_speech0\" : \"t_speech\",\n",
    "    \"t_acous0\" : \"t_acous\",\n",
    "    \"t_ins0\" : \"t_ins\",\n",
    "    \"t_live0\" : \"t_live\",\n",
    "    \"t_val0\" : \"t_val\",\n",
    "    \"t_tempo0\" : \"t_tempo\",\n",
    "\n",
    "}\n",
    "test2 = test2.rename(columns = columns_renamed)\n",
    "train2 = train2.rename(columns = columns_renamed)\n",
    "train.head()"
   ]
  },
  {
   "cell_type": "code",
   "execution_count": 9,
   "metadata": {},
   "outputs": [
    {
     "name": "stdout",
     "output_type": "stream",
     "text": [
      "Train tiene un shape (55543, 14), test tiene un shape (13920, 14)\n",
      "Train2 tiene un shape (55543, 13), test2 tiene un shape (13920, 13)\n"
     ]
    }
   ],
   "source": [
    "print(f'Train tiene un shape {train.shape}, test tiene un shape {test.shape}')\n",
    "print(f'Train2 tiene un shape {train2.shape}, test2 tiene un shape {test2.shape}')"
   ]
  },
  {
   "cell_type": "code",
   "execution_count": 10,
   "metadata": {},
   "outputs": [],
   "source": [
    "# Vamos a guardar una versión de los test y train set con la columna id ya puesta como index\n",
    "train2.to_csv('../1 - Base de Datos/trainset-sin-id.csv')\n",
    "test2.to_csv('../1 - Base de Datos/testset-sin-id.csv')"
   ]
  }
 ],
 "metadata": {
  "kernelspec": {
   "display_name": "Python 3.7.4 ('base')",
   "language": "python",
   "name": "python3"
  },
  "language_info": {
   "codemirror_mode": {
    "name": "ipython",
    "version": 3
   },
   "file_extension": ".py",
   "mimetype": "text/x-python",
   "name": "python",
   "nbconvert_exporter": "python",
   "pygments_lexer": "ipython3",
   "version": "3.12.2"
  },
  "vscode": {
   "interpreter": {
    "hash": "40d3a090f54c6569ab1632332b64b2c03c39dcf918b08424e98f38b5ae0af88f"
   }
  }
 },
 "nbformat": 4,
 "nbformat_minor": 2
}
